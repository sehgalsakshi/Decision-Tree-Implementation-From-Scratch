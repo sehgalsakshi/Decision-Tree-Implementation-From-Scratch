{
 "cells": [
  {
   "cell_type": "markdown",
   "metadata": {},
   "source": [
    "# CART Decision Tree (Classification)"
   ]
  },
  {
   "cell_type": "code",
   "execution_count": 1149,
   "metadata": {},
   "outputs": [],
   "source": [
    "def unique_vals(rows, col):\n",
    "    \"\"\" Find unique values for a column\"\"\"\n",
    "    return set([row[col] for row in rows])"
   ]
  },
  {
   "cell_type": "code",
   "execution_count": 1100,
   "metadata": {},
   "outputs": [],
   "source": [
    "def class_counts(X, y):\n",
    "    \"\"\" Counts num of each type of target class in dataset\"\"\"\n",
    "    counts = {} # dictionary for label -> count\n",
    "    for i in range(len(X)):\n",
    "        label = y[i]\n",
    "        if label not in counts:\n",
    "            counts[label] = 0\n",
    "        counts[label] += 1\n",
    "    return counts"
   ]
  },
  {
   "cell_type": "code",
   "execution_count": 1101,
   "metadata": {},
   "outputs": [],
   "source": [
    "def is_numeric(value):\n",
    "    #this method is required to perform comparisions.\n",
    "    #if column is numeric then exact match is searched for or else greater than equal\n",
    "    return isinstance(value, int) or isinstance(value, float)"
   ]
  },
  {
   "cell_type": "code",
   "execution_count": 1102,
   "metadata": {},
   "outputs": [],
   "source": [
    "class Question:\n",
    "    ''' Ques to partition dataset.\n",
    "    It records a column num (0 for color) and a name (eg - Green is the value)\n",
    "    Match method compares feature value in example to that stored in question.'''\n",
    "    \n",
    "    def __init__(self, column, value, feature_names):\n",
    "        self.column = column\n",
    "        self.value = value\n",
    "        self.feature_names = feature_names\n",
    "        \n",
    "    def match(self, example):\n",
    "        #Compares feature value in example to feature value in question\n",
    "        val = example[self.column]\n",
    "        #we go left if a feature is less than a threshold, right otherwise\n",
    "        if is_numeric(val):\n",
    "            return val >= self.value\n",
    "        else:\n",
    "            return val == self.value\n",
    "    \n",
    "    #repr returns readable value of object instead of object's memory location\n",
    "    def __repr__(self):\n",
    "        #Method to print ques in readable format\n",
    "        condition = '=='\n",
    "        if is_numeric(self.value):\n",
    "            condition = '>='\n",
    "        return 'Is %s %s %s?' %(self.feature_names[self.column], condition, str(self.value))"
   ]
  },
  {
   "cell_type": "code",
   "execution_count": 1103,
   "metadata": {},
   "outputs": [],
   "source": [
    "def partition(rows, target, question):\n",
    "        ''' For each row, test if it matches question\n",
    "        If yes, add to \"true\" rows else \"false\" '''\n",
    "        \n",
    "        true_rows, false_rows, true_y, false_y = [], [], [], []\n",
    "        for i in range(len(rows)):\n",
    "            if question.match(rows[i]):\n",
    "                true_rows.append(rows[i])\n",
    "                true_y.append(target[i])\n",
    "            else:\n",
    "                false_rows.append(rows[i])\n",
    "                false_y.append(target[i])\n",
    "        return true_rows, false_rows, true_y, false_y"
   ]
  },
  {
   "cell_type": "code",
   "execution_count": 1104,
   "metadata": {},
   "outputs": [],
   "source": [
    "def find_best_split(X, target, feature_names):\n",
    "        ''' Find best ques to ask by iterating over every feature / value\n",
    "        and calculating information gain.'''\n",
    "        \n",
    "        #Aim is to maximize information gain\n",
    "        best_gain = 0 #keep track of best information gain\n",
    "        best_question = None #keep train of feature / value that produced it\n",
    "        \n",
    "        #Uncertainity of entire sample space\n",
    "        current_uncertainity = gini_impurity(X, target)\n",
    "        n_features = len(X[0]) #number of independent var\n",
    "        for col in range(n_features): #for each feature\n",
    "            values = set([row[col] for row in X]) #unique values in column\n",
    "            for val in values: #for each value\n",
    "                #eg for val 1 -> Color, green\n",
    "                question = Question(col, val, feature_names)\n",
    "                \n",
    "                #try for splitting dataset\n",
    "                #will check how many rows say color is green\n",
    "                true_rows, false_rows, true_y, false_y = partition(X, target, question)\n",
    "                \n",
    "                #skip the split if it doesn't divide the dataset\n",
    "                #Here we are getting a pure feature, thus on the basis on this, we get a straightforwd decision.\n",
    "                #No split required\n",
    "                if len(true_rows) == 0 or len(false_rows) == 0:\n",
    "                    continue\n",
    "                \n",
    "                gain = info_gain(true_rows, false_rows, true_y, false_y, current_uncertainity)\n",
    "                #print('Gain:'+str(gain)+' for question: '+str(question))\n",
    "                \n",
    "                if gain>=best_gain:\n",
    "                    best_gain, best_question = gain, question\n",
    "        #print('Best Gain:'+str(best_gain)+' for question: '+str(best_question))   \n",
    "        return best_gain, best_question"
   ]
  },
  {
   "cell_type": "markdown",
   "metadata": {},
   "source": [
    "# Since we're creating CART, impurity critirion is Gini Index"
   ]
  },
  {
   "cell_type": "code",
   "execution_count": 1105,
   "metadata": {},
   "outputs": [],
   "source": [
    "def gini_impurity(X, y):\n",
    "        #Goal is to minimize impurity\n",
    "        #Each node is split so that the Gini impurity of the children \n",
    "        #(more specifically the average of the Gini of the children weighted by their size) is minimized.\n",
    "        counts = class_counts(X, y)\n",
    "        impurity = 1\n",
    "        #Checking for each unique value(class) of target variable\n",
    "        for label in counts:\n",
    "            label_probability = counts[label] / float(len(X))\n",
    "            #impurity = 1 - sum(prob of each (squared))\n",
    "            impurity -= label_probability ** 2\n",
    "        return impurity\n",
    "    \n",
    "def info_gain(X_left, X_right, y_left, y_right, current_uncertainity):\n",
    "        ''' Uncertainity of starting node, minus weighted impurity of\n",
    "        child nodes'''\n",
    "        #left refers to true rows and right to false\n",
    "        p = float(len(X_left)) / (len(X_left) + len(X_right))\n",
    "        #current uncertainity refers to impurity at parent\n",
    "        return current_uncertainity - p * gini_impurity(X_left, y_left) - (1 - p) * gini_impurity(X_right, y_right)"
   ]
  },
  {
   "cell_type": "code",
   "execution_count": 1106,
   "metadata": {},
   "outputs": [],
   "source": [
    "class Leaf:\n",
    "    ''' Leaf node classifies data.\n",
    "    Holds dictionary of class -> number of times it appears in training data'''\n",
    "    def __init__(self, X, y):\n",
    "        self.predictions = class_counts(X, y)"
   ]
  },
  {
   "cell_type": "code",
   "execution_count": 1107,
   "metadata": {},
   "outputs": [],
   "source": [
    "class Decision_Node:\n",
    "    '''Asks a question\n",
    "    Holds a reference to question and to the two child nodes'''\n",
    "    def __init__(self, question, true_branch, false_branch):\n",
    "        self.question = question\n",
    "        self.true_branch = true_branch\n",
    "        self.false_branch = false_branch"
   ]
  },
  {
   "cell_type": "code",
   "execution_count": 1108,
   "metadata": {},
   "outputs": [],
   "source": [
    "def build_tree(X, y, feature_names):\n",
    "    '''Builds a tree'''\n",
    "    gain, question = find_best_split(X, y, feature_names)\n",
    "    #Base case. No further info gain\n",
    "    #Add depth here for pruning\n",
    "    #print(gain, question)\n",
    "    if gain == 0:\n",
    "        return Leaf(X, y)\n",
    "    # Here, we've found a useful feature to partition on\n",
    "    true_rows, false_rows, true_y, false_y = partition(X, y, question)\n",
    "    #Recursively build true and false branches\n",
    "    true_branch = build_tree(true_rows, true_y, feature_names)\n",
    "    false_branch = build_tree(false_rows, false_y, feature_names)\n",
    "    \n",
    "    #Return a ques node\n",
    "    #Records the best feature to ask at this point as well as branches to follow depending on the answer\n",
    "    return Decision_Node(question, true_branch, false_branch)"
   ]
  },
  {
   "cell_type": "code",
   "execution_count": 1109,
   "metadata": {},
   "outputs": [],
   "source": [
    "def print_tree(node, spacing=''):\n",
    "    #Base case: if we reached leaf\n",
    "    if isinstance(node, Leaf):\n",
    "        print(spacing+\"Predict\", node.predictions)\n",
    "        return\n",
    "    \n",
    "    #Print question at this node\n",
    "    print(spacing + str(node.question))\n",
    "    \n",
    "    #Call this function recursively on the true branch\n",
    "    print(spacing+'--> True:')\n",
    "    print_tree(node.true_branch, spacing+\" \")\n",
    "    \n",
    "    #Call this function recursively on the false branch\n",
    "    print(spacing+'--> False:')\n",
    "    print_tree(node.false_branch, spacing+\" \")\n",
    "    \n",
    "    "
   ]
  },
  {
   "cell_type": "code",
   "execution_count": 1110,
   "metadata": {},
   "outputs": [],
   "source": [
    "def classify(row, node):\n",
    "    #Base case: we've reached a leaf\n",
    "    if isinstance(node, Leaf):\n",
    "        return node.predictions\n",
    "    \n",
    "    #Decide whether to follow true or false branch\n",
    "    #Compare feature/ value stored in node to example we're considering\n",
    "    \n",
    "    if node.question.match(row):\n",
    "        return classify(row, node.true_branch)\n",
    "    else:\n",
    "        return classify(row, node.false_branch)"
   ]
  },
  {
   "cell_type": "code",
   "execution_count": 1111,
   "metadata": {},
   "outputs": [],
   "source": [
    "def print_leaf(counts):\n",
    "    ''' Prints the predictions at a leaf. '''\n",
    "    total = sum(counts.values())*1.0\n",
    "    probability= {}\n",
    "    for label in counts.keys():\n",
    "        probability[label] = str(int(counts[label] * 100 / total)) + \"%\"\n",
    "    return probability"
   ]
  },
  {
   "cell_type": "code",
   "execution_count": 1120,
   "metadata": {},
   "outputs": [],
   "source": [
    "def predict(counts):\n",
    "    ''' Prints the predictions at a leaf. '''\n",
    "    total = sum(counts.values())*1.0\n",
    "    probability= {}\n",
    "    label = ''\n",
    "    for lbl in counts.keys():\n",
    "        label = lbl \n",
    "        #probability[label] = str(int(counts[label] * 100 / total)) + \"%\"\n",
    "    return label"
   ]
  },
  {
   "cell_type": "code",
   "execution_count": 950,
   "metadata": {},
   "outputs": [],
   "source": [
    "from sklearn.model_selection import train_test_split as split\n",
    "from sklearn.datasets import load_iris as iris"
   ]
  },
  {
   "cell_type": "code",
   "execution_count": 951,
   "metadata": {},
   "outputs": [],
   "source": [
    "data = iris().data\n",
    "target = iris().target"
   ]
  },
  {
   "cell_type": "code",
   "execution_count": 1142,
   "metadata": {},
   "outputs": [],
   "source": [
    "X_train, X_test, y_train, y_test = split(data, target, test_size=0.33, random_state=42)"
   ]
  },
  {
   "cell_type": "code",
   "execution_count": 1144,
   "metadata": {},
   "outputs": [
    {
     "name": "stdout",
     "output_type": "stream",
     "text": [
      "50\n",
      "Prediction %age 100.0\n"
     ]
    }
   ],
   "source": [
    "iris_dt = build_tree(X_train, y_train, iris().feature_names)\n",
    "count = 0\n",
    "for i in range(len(X_test)):\n",
    "    if predict(classify(X_test[i], iris_dt)) == y_test[i]:\n",
    "               count += 1\n",
    "print ('Prediction %age', count*100/float(len(X_test)))\n",
    "#print(len(X_train))\n",
    "#print_tree(my_tree)"
   ]
  },
  {
   "cell_type": "code",
   "execution_count": 1146,
   "metadata": {},
   "outputs": [
    {
     "name": "stdout",
     "output_type": "stream",
     "text": [
      "Is petal width (cm) >= 1.0?\n",
      "--> True:\n",
      " Is petal width (cm) >= 1.8?\n",
      " --> True:\n",
      "  Is petal length (cm) >= 4.9?\n",
      "  --> True:\n",
      "   Predict {2: 28}\n",
      "  --> False:\n",
      "   Is sepal width (cm) >= 3.2?\n",
      "   --> True:\n",
      "    Predict {1: 1}\n",
      "   --> False:\n",
      "    Predict {2: 2}\n",
      " --> False:\n",
      "  Is petal length (cm) >= 5.6?\n",
      "  --> True:\n",
      "   Predict {2: 2}\n",
      "  --> False:\n",
      "   Is petal width (cm) >= 1.7?\n",
      "   --> True:\n",
      "    Is petal length (cm) >= 5.0?\n",
      "    --> True:\n",
      "     Predict {1: 1}\n",
      "    --> False:\n",
      "     Predict {2: 1}\n",
      "   --> False:\n",
      "    Is petal length (cm) >= 5.0?\n",
      "    --> True:\n",
      "     Is petal width (cm) >= 1.6?\n",
      "     --> True:\n",
      "      Predict {1: 1}\n",
      "     --> False:\n",
      "      Predict {2: 1}\n",
      "    --> False:\n",
      "     Predict {1: 32}\n",
      "--> False:\n",
      " Predict {0: 31}\n"
     ]
    }
   ],
   "source": [
    "print_tree(iris_dt)"
   ]
  },
  {
   "cell_type": "code",
   "execution_count": 1150,
   "metadata": {},
   "outputs": [
    {
     "data": {
      "text/plain": [
       "array([[5.7, 2.9, 4.2, 1.3],\n",
       "       [7.6, 3. , 6.6, 2.1],\n",
       "       [5.6, 3. , 4.5, 1.5],\n",
       "       [5.1, 3.5, 1.4, 0.2],\n",
       "       [7.7, 2.8, 6.7, 2. ],\n",
       "       [5.8, 2.7, 4.1, 1. ],\n",
       "       [5.2, 3.4, 1.4, 0.2],\n",
       "       [5. , 3.5, 1.3, 0.3],\n",
       "       [5.1, 3.8, 1.9, 0.4],\n",
       "       [5. , 2. , 3.5, 1. ],\n",
       "       [6.3, 2.7, 4.9, 1.8],\n",
       "       [4.8, 3.4, 1.9, 0.2],\n",
       "       [5. , 3. , 1.6, 0.2],\n",
       "       [5.1, 3.3, 1.7, 0.5],\n",
       "       [5.6, 2.7, 4.2, 1.3],\n",
       "       [5.1, 3.4, 1.5, 0.2],\n",
       "       [5.7, 3. , 4.2, 1.2],\n",
       "       [7.7, 3.8, 6.7, 2.2],\n",
       "       [4.6, 3.2, 1.4, 0.2],\n",
       "       [6.2, 2.9, 4.3, 1.3],\n",
       "       [5.7, 2.5, 5. , 2. ],\n",
       "       [5.5, 4.2, 1.4, 0.2],\n",
       "       [6. , 3. , 4.8, 1.8],\n",
       "       [5.8, 2.7, 5.1, 1.9],\n",
       "       [6. , 2.2, 4. , 1. ],\n",
       "       [5.4, 3. , 4.5, 1.5],\n",
       "       [6.2, 3.4, 5.4, 2.3],\n",
       "       [5.5, 2.3, 4. , 1.3],\n",
       "       [5.4, 3.9, 1.7, 0.4],\n",
       "       [5. , 2.3, 3.3, 1. ],\n",
       "       [6.4, 2.7, 5.3, 1.9],\n",
       "       [5. , 3.3, 1.4, 0.2],\n",
       "       [5. , 3.2, 1.2, 0.2],\n",
       "       [5.5, 2.4, 3.8, 1.1],\n",
       "       [6.7, 3. , 5. , 1.7],\n",
       "       [4.9, 3.1, 1.5, 0.2],\n",
       "       [5.8, 2.8, 5.1, 2.4],\n",
       "       [5. , 3.4, 1.5, 0.2],\n",
       "       [5. , 3.5, 1.6, 0.6],\n",
       "       [5.9, 3.2, 4.8, 1.8],\n",
       "       [5.1, 2.5, 3. , 1.1],\n",
       "       [6.9, 3.2, 5.7, 2.3],\n",
       "       [6. , 2.7, 5.1, 1.6],\n",
       "       [6.1, 2.6, 5.6, 1.4],\n",
       "       [7.7, 3. , 6.1, 2.3],\n",
       "       [5.5, 2.5, 4. , 1.3],\n",
       "       [4.4, 2.9, 1.4, 0.2],\n",
       "       [4.3, 3. , 1.1, 0.1],\n",
       "       [6. , 2.2, 5. , 1.5],\n",
       "       [7.2, 3.2, 6. , 1.8],\n",
       "       [4.6, 3.1, 1.5, 0.2],\n",
       "       [5.1, 3.5, 1.4, 0.3],\n",
       "       [4.4, 3. , 1.3, 0.2],\n",
       "       [6.3, 2.5, 4.9, 1.5],\n",
       "       [6.3, 3.4, 5.6, 2.4],\n",
       "       [4.6, 3.4, 1.4, 0.3],\n",
       "       [6.8, 3. , 5.5, 2.1],\n",
       "       [6.3, 3.3, 6. , 2.5],\n",
       "       [4.7, 3.2, 1.3, 0.2],\n",
       "       [6.1, 2.9, 4.7, 1.4],\n",
       "       [6.5, 2.8, 4.6, 1.5],\n",
       "       [6.2, 2.8, 4.8, 1.8],\n",
       "       [7. , 3.2, 4.7, 1.4],\n",
       "       [6.4, 3.2, 5.3, 2.3],\n",
       "       [5.1, 3.8, 1.6, 0.2],\n",
       "       [6.9, 3.1, 5.4, 2.1],\n",
       "       [5.9, 3. , 4.2, 1.5],\n",
       "       [6.5, 3. , 5.2, 2. ],\n",
       "       [5.7, 2.6, 3.5, 1. ],\n",
       "       [5.2, 2.7, 3.9, 1.4],\n",
       "       [6.1, 3. , 4.6, 1.4],\n",
       "       [4.5, 2.3, 1.3, 0.3],\n",
       "       [6.6, 2.9, 4.6, 1.3],\n",
       "       [5.5, 2.6, 4.4, 1.2],\n",
       "       [5.3, 3.7, 1.5, 0.2],\n",
       "       [5.6, 3. , 4.1, 1.3],\n",
       "       [7.3, 2.9, 6.3, 1.8],\n",
       "       [6.7, 3.3, 5.7, 2.1],\n",
       "       [5.1, 3.7, 1.5, 0.4],\n",
       "       [4.9, 2.4, 3.3, 1. ],\n",
       "       [6.7, 3.3, 5.7, 2.5],\n",
       "       [7.2, 3. , 5.8, 1.6],\n",
       "       [4.9, 3.6, 1.4, 0.1],\n",
       "       [6.7, 3.1, 5.6, 2.4],\n",
       "       [4.9, 3. , 1.4, 0.2],\n",
       "       [6.9, 3.1, 4.9, 1.5],\n",
       "       [7.4, 2.8, 6.1, 1.9],\n",
       "       [6.3, 2.9, 5.6, 1.8],\n",
       "       [5.7, 2.8, 4.1, 1.3],\n",
       "       [6.5, 3. , 5.5, 1.8],\n",
       "       [6.3, 2.3, 4.4, 1.3],\n",
       "       [6.4, 2.9, 4.3, 1.3],\n",
       "       [5.6, 2.8, 4.9, 2. ],\n",
       "       [5.9, 3. , 5.1, 1.8],\n",
       "       [5.4, 3.4, 1.7, 0.2],\n",
       "       [6.1, 2.8, 4. , 1.3],\n",
       "       [4.9, 2.5, 4.5, 1.7],\n",
       "       [5.8, 4. , 1.2, 0.2],\n",
       "       [5.8, 2.6, 4. , 1.2],\n",
       "       [7.1, 3. , 5.9, 2.1]])"
      ]
     },
     "execution_count": 1150,
     "metadata": {},
     "output_type": "execute_result"
    }
   ],
   "source": [
    "X_train"
   ]
  },
  {
   "cell_type": "code",
   "execution_count": null,
   "metadata": {},
   "outputs": [],
   "source": []
  }
 ],
 "metadata": {
  "kernelspec": {
   "display_name": "Python 3",
   "language": "python",
   "name": "python3"
  },
  "language_info": {
   "codemirror_mode": {
    "name": "ipython",
    "version": 3
   },
   "file_extension": ".py",
   "mimetype": "text/x-python",
   "name": "python",
   "nbconvert_exporter": "python",
   "pygments_lexer": "ipython3",
   "version": "3.8.3"
  }
 },
 "nbformat": 4,
 "nbformat_minor": 4
}
